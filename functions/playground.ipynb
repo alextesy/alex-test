{
 "cells": [
  {
   "cell_type": "code",
   "execution_count": 13,
   "id": "76ed90c6-ad9d-4c33-986e-9a4c00c8254e",
   "metadata": {},
   "outputs": [],
   "source": [
    "import os\n",
    "os.environ[\"GOOGLE_APPLICATION_CREDENTIALS\"] = 'alex-stocks-917bf86d24f0.json'"
   ]
  },
  {
   "cell_type": "code",
   "execution_count": 14,
   "id": "4d793783-48c5-4ca7-925f-75d75a65b776",
   "metadata": {},
   "outputs": [],
   "source": [
    "from google.cloud import firestore\n",
    "\n",
    "def fetch_firestore_data(collection_name):\n",
    "    \"\"\"\n",
    "    Fetch all documents from a Firestore collection and store them in a Pandas DataFrame.\n",
    "\n",
    "    :param collection_name: Name of the Firestore collection.\n",
    "    :return: Pandas DataFrame containing Firestore data.\n",
    "    \"\"\"\n",
    "    # Initialize Firestore client\n",
    "    db = firestore.Client()\n",
    "\n",
    "    # Reference the Firestore collection\n",
    "    collection_ref = db.collection(collection_name)\n",
    "\n",
    "    # Fetch all documents\n",
    "    docs = collection_ref.stream()\n",
    "\n",
    "    # Convert documents into a list of dictionaries\n",
    "    data = []\n",
    "    for doc in docs:\n",
    "        doc_dict = doc.to_dict()\n",
    "        doc_dict['id'] = doc.id  # Include document ID\n",
    "        data.append(doc_dict)\n",
    "\n",
    "    # Create DataFrame\n",
    "    return data\n",
    "\n",
    "# Example usage\n"
   ]
  },
  {
   "cell_type": "code",
   "execution_count": 15,
   "id": "2ba21a8b-4ede-4e93-aae1-b3b307cc4b62",
   "metadata": {},
   "outputs": [],
   "source": [
    "data = fetch_firestore_data('stock_data')"
   ]
  },
  {
   "cell_type": "code",
   "execution_count": 21,
   "id": "dcadb620-abde-4f95-b862-18e3fe572de6",
   "metadata": {},
   "outputs": [
    {
     "name": "stderr",
     "output_type": "stream",
     "text": [
      "/var/folders/tn/gm6j130s3vzcrb5cjfbzl9z40000gn/T/ipykernel_29827/1968933777.py:3: UserWarning: Pandas doesn't allow columns to be created via a new attribute name - see https://pandas.pydata.org/pandas-docs/stable/indexing.html#attribute-access\n",
      "  data_df.created_hour = data_df.created_at.dt.hour\n"
     ]
    }
   ],
   "source": [
    "import pandas as pd\n",
    "data_df = pd.DataFrame(data)\n",
    "data_df.created_hour = data_df.created_at.dt.hour"
   ]
  },
  {
   "cell_type": "code",
   "execution_count": 23,
   "id": "0b27c994-1e1b-44f8-8b28-272bdf392a16",
   "metadata": {},
   "outputs": [
    {
     "data": {
      "text/plain": [
       "0       9\n",
       "1      18\n",
       "2      18\n",
       "3      18\n",
       "4      18\n",
       "       ..\n",
       "593    20\n",
       "594    20\n",
       "595    20\n",
       "596    20\n",
       "597    20\n",
       "Name: created_at, Length: 598, dtype: int32"
      ]
     },
     "execution_count": 23,
     "metadata": {},
     "output_type": "execute_result"
    }
   ],
   "source": [
    "data_df.created_hour"
   ]
  },
  {
   "cell_type": "code",
   "execution_count": 26,
   "id": "33d2fe54-2dd3-446d-a952-c711cf97a790",
   "metadata": {},
   "outputs": [
    {
     "data": {
      "text/html": [
       "<div>\n",
       "<style scoped>\n",
       "    .dataframe tbody tr th:only-of-type {\n",
       "        vertical-align: middle;\n",
       "    }\n",
       "\n",
       "    .dataframe tbody tr th {\n",
       "        vertical-align: top;\n",
       "    }\n",
       "\n",
       "    .dataframe thead th {\n",
       "        text-align: right;\n",
       "    }\n",
       "</style>\n",
       "<table border=\"1\" class=\"dataframe\">\n",
       "  <thead>\n",
       "    <tr style=\"text-align: right;\">\n",
       "      <th></th>\n",
       "      <th>created_at</th>\n",
       "      <th>content</th>\n",
       "      <th>message_type</th>\n",
       "      <th>subreddit</th>\n",
       "      <th>source</th>\n",
       "      <th>url</th>\n",
       "      <th>id</th>\n",
       "      <th>title</th>\n",
       "      <th>score</th>\n",
       "      <th>selftext</th>\n",
       "      <th>timestamp</th>\n",
       "      <th>author</th>\n",
       "      <th>num_comments</th>\n",
       "      <th>parent_id</th>\n",
       "      <th>depth</th>\n",
       "    </tr>\n",
       "  </thead>\n",
       "  <tbody>\n",
       "    <tr>\n",
       "      <th>10</th>\n",
       "      <td>2025-03-20 18:04:48+00:00</td>\n",
       "      <td>[deleted]</td>\n",
       "      <td>reddit_comment</td>\n",
       "      <td>wallstreetbets</td>\n",
       "      <td>reddit</td>\n",
       "      <td>https://reddit.com/r/wallstreetbets/comments/1...</td>\n",
       "      <td>miu2k9w</td>\n",
       "      <td>None</td>\n",
       "      <td>9</td>\n",
       "      <td></td>\n",
       "      <td>1.742494e+09</td>\n",
       "      <td>[deleted]</td>\n",
       "      <td>0</td>\n",
       "      <td>t3_1jflc6z</td>\n",
       "      <td>0.0</td>\n",
       "    </tr>\n",
       "    <tr>\n",
       "      <th>48</th>\n",
       "      <td>2025-03-20 18:11:37+00:00</td>\n",
       "      <td>[deleted]</td>\n",
       "      <td>reddit_comment</td>\n",
       "      <td>wallstreetbets</td>\n",
       "      <td>reddit</td>\n",
       "      <td>https://reddit.com/r/wallstreetbets/comments/1...</td>\n",
       "      <td>miu3zju</td>\n",
       "      <td>None</td>\n",
       "      <td>7</td>\n",
       "      <td></td>\n",
       "      <td>1.742494e+09</td>\n",
       "      <td>[deleted]</td>\n",
       "      <td>0</td>\n",
       "      <td>t3_1jflc6z</td>\n",
       "      <td>0.0</td>\n",
       "    </tr>\n",
       "    <tr>\n",
       "      <th>220</th>\n",
       "      <td>2025-03-20 18:40:34+00:00</td>\n",
       "      <td>[deleted]</td>\n",
       "      <td>reddit_comment</td>\n",
       "      <td>wallstreetbets</td>\n",
       "      <td>reddit</td>\n",
       "      <td>https://reddit.com/r/wallstreetbets/comments/1...</td>\n",
       "      <td>miua0fi</td>\n",
       "      <td>None</td>\n",
       "      <td>4</td>\n",
       "      <td></td>\n",
       "      <td>1.742496e+09</td>\n",
       "      <td>[deleted]</td>\n",
       "      <td>0</td>\n",
       "      <td>t3_1jflc6z</td>\n",
       "      <td>0.0</td>\n",
       "    </tr>\n",
       "    <tr>\n",
       "      <th>223</th>\n",
       "      <td>2025-03-20 18:41:03+00:00</td>\n",
       "      <td>[deleted]</td>\n",
       "      <td>reddit_comment</td>\n",
       "      <td>wallstreetbets</td>\n",
       "      <td>reddit</td>\n",
       "      <td>https://reddit.com/r/wallstreetbets/comments/1...</td>\n",
       "      <td>miua3yy</td>\n",
       "      <td>None</td>\n",
       "      <td>9</td>\n",
       "      <td></td>\n",
       "      <td>1.742496e+09</td>\n",
       "      <td>[deleted]</td>\n",
       "      <td>0</td>\n",
       "      <td>t3_1jflc6z</td>\n",
       "      <td>0.0</td>\n",
       "    </tr>\n",
       "  </tbody>\n",
       "</table>\n",
       "</div>"
      ],
      "text/plain": [
       "                   created_at    content    message_type       subreddit  \\\n",
       "10  2025-03-20 18:04:48+00:00  [deleted]  reddit_comment  wallstreetbets   \n",
       "48  2025-03-20 18:11:37+00:00  [deleted]  reddit_comment  wallstreetbets   \n",
       "220 2025-03-20 18:40:34+00:00  [deleted]  reddit_comment  wallstreetbets   \n",
       "223 2025-03-20 18:41:03+00:00  [deleted]  reddit_comment  wallstreetbets   \n",
       "\n",
       "     source                                                url       id title  \\\n",
       "10   reddit  https://reddit.com/r/wallstreetbets/comments/1...  miu2k9w  None   \n",
       "48   reddit  https://reddit.com/r/wallstreetbets/comments/1...  miu3zju  None   \n",
       "220  reddit  https://reddit.com/r/wallstreetbets/comments/1...  miua0fi  None   \n",
       "223  reddit  https://reddit.com/r/wallstreetbets/comments/1...  miua3yy  None   \n",
       "\n",
       "     score selftext     timestamp     author  num_comments   parent_id  depth  \n",
       "10       9           1.742494e+09  [deleted]             0  t3_1jflc6z    0.0  \n",
       "48       7           1.742494e+09  [deleted]             0  t3_1jflc6z    0.0  \n",
       "220      4           1.742496e+09  [deleted]             0  t3_1jflc6z    0.0  \n",
       "223      9           1.742496e+09  [deleted]             0  t3_1jflc6z    0.0  "
      ]
     },
     "execution_count": 26,
     "metadata": {},
     "output_type": "execute_result"
    }
   ],
   "source": [
    "data_df[data_df['content'] =='[deleted]']"
   ]
  },
  {
   "cell_type": "code",
   "execution_count": 1,
   "id": "2387172b-6bca-449f-a828-c718b8773833",
   "metadata": {},
   "outputs": [
    {
     "data": {
      "text/plain": [
       "True"
      ]
     },
     "execution_count": 1,
     "metadata": {},
     "output_type": "execute_result"
    }
   ],
   "source": [
    "%load_ext autoreload\n",
    "%autoreload 2\n",
    "\n",
    "import logging\n",
    "\n",
    "logging.basicConfig(level=logging.INFO, force=True)  # force=True resets existing handlers\n",
    "\n",
    "import os\n",
    "os.getenv('REDDIT_CLIENT_ID')\n",
    "from scrapers.reddit_scraper_v2 import RedditScraper\n",
    "from dotenv import load_dotenv\n",
    "\n",
    "load_dotenv()\n"
   ]
  },
  {
   "cell_type": "code",
   "execution_count": null,
   "id": "39c97415-e466-4668-a84e-65b3ed8915e9",
   "metadata": {},
   "outputs": [],
   "source": []
  },
  {
   "cell_type": "code",
   "execution_count": 2,
   "id": "80ddb33e-074d-4f73-be18-94dbfdbe3fd1",
   "metadata": {},
   "outputs": [
    {
     "name": "stderr",
     "output_type": "stream",
     "text": [
      "INFO:RedditAPI:Reddit API client initialized successfully\n",
      "INFO:RedditScraper:Fetching post 1jhdzhc with comments (limit: None)\n",
      "INFO:RedditScraper:Replacing 'more comments' objects for post 1jhdzhc\n",
      "INFO:RedditScraper:Processing comments for post 1jhdzhc\n",
      "INFO:CommentProcessor:Total processed comments: 91\n",
      "INFO:RedditScraper:Successfully processed 91 comments for post 1jhdzhc\n",
      "INFO:RedditAPI:Closing Reddit API client\n",
      "INFO:RedditAPI:Reddit API client closed successfully\n"
     ]
    }
   ],
   "source": [
    "try:\n",
    "    async with RedditScraper() as rs:\n",
    "        test_post, comments = await rs.fetch_post_with_comments('1jhdzhc')\n",
    "except Exception as e:\n",
    "    print(e)"
   ]
  },
  {
   "cell_type": "code",
   "execution_count": 3,
   "id": "f134d367-8faa-4e8a-ae17-00a27b998238",
   "metadata": {},
   "outputs": [
    {
     "data": {
      "text/plain": [
       "'1jhdzhc'"
      ]
     },
     "execution_count": 3,
     "metadata": {},
     "output_type": "execute_result"
    }
   ],
   "source": [
    "comments[0].submission_id"
   ]
  },
  {
   "cell_type": "code",
   "execution_count": null,
   "id": "79858282-be03-4bb7-aab5-7328549ec96d",
   "metadata": {},
   "outputs": [],
   "source": []
  }
 ],
 "metadata": {
  "kernelspec": {
   "display_name": "Python 3 (ipykernel)",
   "language": "python",
   "name": "python3"
  },
  "language_info": {
   "codemirror_mode": {
    "name": "ipython",
    "version": 3
   },
   "file_extension": ".py",
   "mimetype": "text/x-python",
   "name": "python",
   "nbconvert_exporter": "python",
   "pygments_lexer": "ipython3",
   "version": "3.10.16"
  }
 },
 "nbformat": 4,
 "nbformat_minor": 5
}
