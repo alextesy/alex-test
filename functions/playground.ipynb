{
 "cells": [
  {
   "cell_type": "code",
   "execution_count": 13,
   "id": "76ed90c6-ad9d-4c33-986e-9a4c00c8254e",
   "metadata": {},
   "outputs": [],
   "source": [
    "import os\n",
    "os.environ[\"GOOGLE_APPLICATION_CREDENTIALS\"] = 'alex-stocks-917bf86d24f0.json'"
   ]
  },
  {
   "cell_type": "code",
   "execution_count": 14,
   "id": "4d793783-48c5-4ca7-925f-75d75a65b776",
   "metadata": {},
   "outputs": [],
   "source": [
    "from google.cloud import firestore\n",
    "\n",
    "def fetch_firestore_data(collection_name):\n",
    "    \"\"\"\n",
    "    Fetch all documents from a Firestore collection and store them in a Pandas DataFrame.\n",
    "\n",
    "    :param collection_name: Name of the Firestore collection.\n",
    "    :return: Pandas DataFrame containing Firestore data.\n",
    "    \"\"\"\n",
    "    # Initialize Firestore client\n",
    "    db = firestore.Client()\n",
    "\n",
    "    # Reference the Firestore collection\n",
    "    collection_ref = db.collection(collection_name)\n",
    "\n",
    "    # Fetch all documents\n",
    "    docs = collection_ref.stream()\n",
    "\n",
    "    # Convert documents into a list of dictionaries\n",
    "    data = []\n",
    "    for doc in docs:\n",
    "        doc_dict = doc.to_dict()\n",
    "        doc_dict['id'] = doc.id  # Include document ID\n",
    "        data.append(doc_dict)\n",
    "\n",
    "    # Create DataFrame\n",
    "    return data\n",
    "\n",
    "# Example usage\n"
   ]
  },
  {
   "cell_type": "code",
   "execution_count": 15,
   "id": "2ba21a8b-4ede-4e93-aae1-b3b307cc4b62",
   "metadata": {},
   "outputs": [],
   "source": [
    "data = fetch_firestore_data('stock_data')"
   ]
  },
  {
   "cell_type": "code",
   "execution_count": 21,
   "id": "dcadb620-abde-4f95-b862-18e3fe572de6",
   "metadata": {},
   "outputs": [
    {
     "name": "stderr",
     "output_type": "stream",
     "text": [
      "/var/folders/tn/gm6j130s3vzcrb5cjfbzl9z40000gn/T/ipykernel_29827/1968933777.py:3: UserWarning: Pandas doesn't allow columns to be created via a new attribute name - see https://pandas.pydata.org/pandas-docs/stable/indexing.html#attribute-access\n",
      "  data_df.created_hour = data_df.created_at.dt.hour\n"
     ]
    }
   ],
   "source": [
    "import pandas as pd\n",
    "data_df = pd.DataFrame(data)\n",
    "data_df.created_hour = data_df.created_at.dt.hour"
   ]
  },
  {
   "cell_type": "code",
   "execution_count": 23,
   "id": "0b27c994-1e1b-44f8-8b28-272bdf392a16",
   "metadata": {},
   "outputs": [
    {
     "data": {
      "text/plain": [
       "0       9\n",
       "1      18\n",
       "2      18\n",
       "3      18\n",
       "4      18\n",
       "       ..\n",
       "593    20\n",
       "594    20\n",
       "595    20\n",
       "596    20\n",
       "597    20\n",
       "Name: created_at, Length: 598, dtype: int32"
      ]
     },
     "execution_count": 23,
     "metadata": {},
     "output_type": "execute_result"
    }
   ],
   "source": [
    "data_df.created_hour"
   ]
  },
  {
   "cell_type": "code",
   "execution_count": 26,
   "id": "33d2fe54-2dd3-446d-a952-c711cf97a790",
   "metadata": {},
   "outputs": [
    {
     "data": {
      "text/html": [
       "<div>\n",
       "<style scoped>\n",
       "    .dataframe tbody tr th:only-of-type {\n",
       "        vertical-align: middle;\n",
       "    }\n",
       "\n",
       "    .dataframe tbody tr th {\n",
       "        vertical-align: top;\n",
       "    }\n",
       "\n",
       "    .dataframe thead th {\n",
       "        text-align: right;\n",
       "    }\n",
       "</style>\n",
       "<table border=\"1\" class=\"dataframe\">\n",
       "  <thead>\n",
       "    <tr style=\"text-align: right;\">\n",
       "      <th></th>\n",
       "      <th>created_at</th>\n",
       "      <th>content</th>\n",
       "      <th>message_type</th>\n",
       "      <th>subreddit</th>\n",
       "      <th>source</th>\n",
       "      <th>url</th>\n",
       "      <th>id</th>\n",
       "      <th>title</th>\n",
       "      <th>score</th>\n",
       "      <th>selftext</th>\n",
       "      <th>timestamp</th>\n",
       "      <th>author</th>\n",
       "      <th>num_comments</th>\n",
       "      <th>parent_id</th>\n",
       "      <th>depth</th>\n",
       "    </tr>\n",
       "  </thead>\n",
       "  <tbody>\n",
       "    <tr>\n",
       "      <th>10</th>\n",
       "      <td>2025-03-20 18:04:48+00:00</td>\n",
       "      <td>[deleted]</td>\n",
       "      <td>reddit_comment</td>\n",
       "      <td>wallstreetbets</td>\n",
       "      <td>reddit</td>\n",
       "      <td>https://reddit.com/r/wallstreetbets/comments/1...</td>\n",
       "      <td>miu2k9w</td>\n",
       "      <td>None</td>\n",
       "      <td>9</td>\n",
       "      <td></td>\n",
       "      <td>1.742494e+09</td>\n",
       "      <td>[deleted]</td>\n",
       "      <td>0</td>\n",
       "      <td>t3_1jflc6z</td>\n",
       "      <td>0.0</td>\n",
       "    </tr>\n",
       "    <tr>\n",
       "      <th>48</th>\n",
       "      <td>2025-03-20 18:11:37+00:00</td>\n",
       "      <td>[deleted]</td>\n",
       "      <td>reddit_comment</td>\n",
       "      <td>wallstreetbets</td>\n",
       "      <td>reddit</td>\n",
       "      <td>https://reddit.com/r/wallstreetbets/comments/1...</td>\n",
       "      <td>miu3zju</td>\n",
       "      <td>None</td>\n",
       "      <td>7</td>\n",
       "      <td></td>\n",
       "      <td>1.742494e+09</td>\n",
       "      <td>[deleted]</td>\n",
       "      <td>0</td>\n",
       "      <td>t3_1jflc6z</td>\n",
       "      <td>0.0</td>\n",
       "    </tr>\n",
       "    <tr>\n",
       "      <th>220</th>\n",
       "      <td>2025-03-20 18:40:34+00:00</td>\n",
       "      <td>[deleted]</td>\n",
       "      <td>reddit_comment</td>\n",
       "      <td>wallstreetbets</td>\n",
       "      <td>reddit</td>\n",
       "      <td>https://reddit.com/r/wallstreetbets/comments/1...</td>\n",
       "      <td>miua0fi</td>\n",
       "      <td>None</td>\n",
       "      <td>4</td>\n",
       "      <td></td>\n",
       "      <td>1.742496e+09</td>\n",
       "      <td>[deleted]</td>\n",
       "      <td>0</td>\n",
       "      <td>t3_1jflc6z</td>\n",
       "      <td>0.0</td>\n",
       "    </tr>\n",
       "    <tr>\n",
       "      <th>223</th>\n",
       "      <td>2025-03-20 18:41:03+00:00</td>\n",
       "      <td>[deleted]</td>\n",
       "      <td>reddit_comment</td>\n",
       "      <td>wallstreetbets</td>\n",
       "      <td>reddit</td>\n",
       "      <td>https://reddit.com/r/wallstreetbets/comments/1...</td>\n",
       "      <td>miua3yy</td>\n",
       "      <td>None</td>\n",
       "      <td>9</td>\n",
       "      <td></td>\n",
       "      <td>1.742496e+09</td>\n",
       "      <td>[deleted]</td>\n",
       "      <td>0</td>\n",
       "      <td>t3_1jflc6z</td>\n",
       "      <td>0.0</td>\n",
       "    </tr>\n",
       "  </tbody>\n",
       "</table>\n",
       "</div>"
      ],
      "text/plain": [
       "                   created_at    content    message_type       subreddit  \\\n",
       "10  2025-03-20 18:04:48+00:00  [deleted]  reddit_comment  wallstreetbets   \n",
       "48  2025-03-20 18:11:37+00:00  [deleted]  reddit_comment  wallstreetbets   \n",
       "220 2025-03-20 18:40:34+00:00  [deleted]  reddit_comment  wallstreetbets   \n",
       "223 2025-03-20 18:41:03+00:00  [deleted]  reddit_comment  wallstreetbets   \n",
       "\n",
       "     source                                                url       id title  \\\n",
       "10   reddit  https://reddit.com/r/wallstreetbets/comments/1...  miu2k9w  None   \n",
       "48   reddit  https://reddit.com/r/wallstreetbets/comments/1...  miu3zju  None   \n",
       "220  reddit  https://reddit.com/r/wallstreetbets/comments/1...  miua0fi  None   \n",
       "223  reddit  https://reddit.com/r/wallstreetbets/comments/1...  miua3yy  None   \n",
       "\n",
       "     score selftext     timestamp     author  num_comments   parent_id  depth  \n",
       "10       9           1.742494e+09  [deleted]             0  t3_1jflc6z    0.0  \n",
       "48       7           1.742494e+09  [deleted]             0  t3_1jflc6z    0.0  \n",
       "220      4           1.742496e+09  [deleted]             0  t3_1jflc6z    0.0  \n",
       "223      9           1.742496e+09  [deleted]             0  t3_1jflc6z    0.0  "
      ]
     },
     "execution_count": 26,
     "metadata": {},
     "output_type": "execute_result"
    }
   ],
   "source": [
    "data_df[data_df['content'] =='[deleted]']"
   ]
  },
  {
   "cell_type": "code",
   "execution_count": 3,
   "id": "2387172b-6bca-449f-a828-c718b8773833",
   "metadata": {},
   "outputs": [
    {
     "data": {
      "text/plain": [
       "True"
      ]
     },
     "execution_count": 3,
     "metadata": {},
     "output_type": "execute_result"
    }
   ],
   "source": [
    "from scrapers.reddit_scraper_v2 import RedditScraper\n",
    "from dotenv import load_dotenv\n",
    "load_dotenv()\n"
   ]
  },
  {
   "cell_type": "code",
   "execution_count": 5,
   "id": "ef302cde-08e4-48aa-b5a6-7af822a33dad",
   "metadata": {},
   "outputs": [
    {
     "data": {
      "text/plain": [
       "'mzotLVjrWHfwpcgnbuvJvg'"
      ]
     },
     "execution_count": 5,
     "metadata": {},
     "output_type": "execute_result"
    }
   ],
   "source": [
    "import os\n",
    "os.getenv('REDDIT_CLIENT_ID')"
   ]
  },
  {
   "cell_type": "code",
   "execution_count": 9,
   "id": "39c97415-e466-4668-a84e-65b3ed8915e9",
   "metadata": {},
   "outputs": [
    {
     "name": "stderr",
     "output_type": "stream",
     "text": [
      "Error fetching daily discussion thread: error with request Session is closed\n",
      "Traceback (most recent call last):\n",
      "  File \"/Users/alex/Documents/GitHub/alex-test/functions/scrapers/reddit_scraper_v2.py\", line 261, in fetch_daily_discussion\n",
      "    async for submission in subreddit.search(query=search_title, limit=10, sort='new'):\n",
      "  File \"/Users/alex/miniconda3/envs/firebase/lib/python3.10/site-packages/asyncpraw/models/listing/generator.py\", line 37, in __anext__\n",
      "    await self._next_batch()\n",
      "  File \"/Users/alex/miniconda3/envs/firebase/lib/python3.10/site-packages/asyncpraw/models/listing/generator.py\", line 90, in _next_batch\n",
      "    self._listing = await self._reddit.get(self.url, params=self.params)\n",
      "  File \"/Users/alex/miniconda3/envs/firebase/lib/python3.10/site-packages/asyncpraw/util/deprecate_args.py\", line 54, in wrapped\n",
      "    return await _wrapper(*args, **kwargs)\n",
      "  File \"/Users/alex/miniconda3/envs/firebase/lib/python3.10/site-packages/asyncpraw/reddit.py\", line 813, in get\n",
      "    return await self._objectify_request(method=\"GET\", params=params, path=path)\n",
      "  File \"/Users/alex/miniconda3/envs/firebase/lib/python3.10/site-packages/asyncpraw/reddit.py\", line 570, in _objectify_request\n",
      "    await self.request(\n",
      "  File \"/Users/alex/miniconda3/envs/firebase/lib/python3.10/site-packages/asyncpraw/util/deprecate_args.py\", line 54, in wrapped\n",
      "    return await _wrapper(*args, **kwargs)\n",
      "  File \"/Users/alex/miniconda3/envs/firebase/lib/python3.10/site-packages/asyncpraw/reddit.py\", line 1061, in request\n",
      "    return await self._core.request(\n",
      "  File \"/Users/alex/miniconda3/envs/firebase/lib/python3.10/site-packages/asyncprawcore/sessions.py\", line 383, in request\n",
      "    return await self._request_with_retries(\n",
      "  File \"/Users/alex/miniconda3/envs/firebase/lib/python3.10/site-packages/asyncprawcore/sessions.py\", line 286, in _request_with_retries\n",
      "    response, saved_exception = await self._make_request(\n",
      "  File \"/Users/alex/miniconda3/envs/firebase/lib/python3.10/site-packages/asyncprawcore/sessions.py\", line 192, in _make_request\n",
      "    response = await self._rate_limiter.call(\n",
      "  File \"/Users/alex/miniconda3/envs/firebase/lib/python3.10/site-packages/asyncprawcore/rate_limit.py\", line 51, in call\n",
      "    response = await request_function(*args, **kwargs)\n",
      "  File \"/Users/alex/miniconda3/envs/firebase/lib/python3.10/site-packages/asyncprawcore/requestor.py\", line 80, in request\n",
      "    raise RequestException(exc, args, kwargs) from None\n",
      "asyncprawcore.exceptions.RequestException: error with request Session is closed\n"
     ]
    },
    {
     "ename": "RequestException",
     "evalue": "error with request Session is closed",
     "output_type": "error",
     "traceback": [
      "\u001b[0;31m---------------------------------------------------------------------------\u001b[0m",
      "\u001b[0;31mRequestException\u001b[0m                          Traceback (most recent call last)",
      "Cell \u001b[0;32mIn[9], line 3\u001b[0m\n\u001b[1;32m      1\u001b[0m reddit_scrape \u001b[38;5;241m=\u001b[39m RedditScraper()\n\u001b[1;32m      2\u001b[0m last_discussion_id \u001b[38;5;241m=\u001b[39m \u001b[38;5;124m'\u001b[39m\u001b[38;5;124m1jflc6z\u001b[39m\u001b[38;5;124m'\u001b[39m\n\u001b[0;32m----> 3\u001b[0m daily_post, daily_comments \u001b[38;5;241m=\u001b[39m \u001b[38;5;28;01mawait\u001b[39;00m reddit_scraper\u001b[38;5;241m.\u001b[39mfetch_daily_discussion(\n\u001b[1;32m      4\u001b[0m     limit\u001b[38;5;241m=\u001b[39m\u001b[38;5;241m5\u001b[39m,\n\u001b[1;32m      5\u001b[0m     last_discussion_id\u001b[38;5;241m=\u001b[39mlast_discussion_id,\n\u001b[1;32m      6\u001b[0m     last_check_time\u001b[38;5;241m=\u001b[39m\u001b[38;5;28;01mNone\u001b[39;00m\n\u001b[1;32m      7\u001b[0m )\n",
      "File \u001b[0;32m~/Documents/GitHub/alex-test/functions/scrapers/reddit_scraper_v2.py:261\u001b[0m, in \u001b[0;36mRedditScraper.fetch_daily_discussion\u001b[0;34m(self, limit, last_discussion_id, last_check_time)\u001b[0m\n\u001b[1;32m    259\u001b[0m \u001b[38;5;66;03m# Approach 1: Search by title.\u001b[39;00m\n\u001b[1;32m    260\u001b[0m \u001b[38;5;28mself\u001b[39m\u001b[38;5;241m.\u001b[39mlogger\u001b[38;5;241m.\u001b[39minfo(\u001b[38;5;124mf\u001b[39m\u001b[38;5;124m\"\u001b[39m\u001b[38;5;124mSearching for \u001b[39m\u001b[38;5;132;01m{\u001b[39;00msearch_title\u001b[38;5;132;01m}\u001b[39;00m\u001b[38;5;124m in r/wallstreetbets\u001b[39m\u001b[38;5;124m\"\u001b[39m)\n\u001b[0;32m--> 261\u001b[0m \u001b[38;5;28;01masync\u001b[39;00m \u001b[38;5;28;01mfor\u001b[39;00m submission \u001b[38;5;129;01min\u001b[39;00m subreddit\u001b[38;5;241m.\u001b[39msearch(query\u001b[38;5;241m=\u001b[39msearch_title, limit\u001b[38;5;241m=\u001b[39m\u001b[38;5;241m10\u001b[39m, sort\u001b[38;5;241m=\u001b[39m\u001b[38;5;124m'\u001b[39m\u001b[38;5;124mnew\u001b[39m\u001b[38;5;124m'\u001b[39m):\n\u001b[1;32m    262\u001b[0m     \u001b[38;5;28;01mawait\u001b[39;00m \u001b[38;5;28mself\u001b[39m\u001b[38;5;241m.\u001b[39mrate_limiter\u001b[38;5;241m.\u001b[39mwait()\n\u001b[1;32m    263\u001b[0m     submissions\u001b[38;5;241m.\u001b[39mappend(submission)\n",
      "File \u001b[0;32m~/miniconda3/envs/firebase/lib/python3.10/site-packages/asyncpraw/models/listing/generator.py:37\u001b[0m, in \u001b[0;36mListingGenerator.__anext__\u001b[0;34m(self)\u001b[0m\n\u001b[1;32m     34\u001b[0m     \u001b[38;5;28;01mraise\u001b[39;00m \u001b[38;5;167;01mStopAsyncIteration\u001b[39;00m\n\u001b[1;32m     36\u001b[0m \u001b[38;5;28;01mif\u001b[39;00m \u001b[38;5;28mself\u001b[39m\u001b[38;5;241m.\u001b[39m_listing \u001b[38;5;129;01mis\u001b[39;00m \u001b[38;5;28;01mNone\u001b[39;00m \u001b[38;5;129;01mor\u001b[39;00m \u001b[38;5;28mself\u001b[39m\u001b[38;5;241m.\u001b[39m_list_index \u001b[38;5;241m>\u001b[39m\u001b[38;5;241m=\u001b[39m \u001b[38;5;28mlen\u001b[39m(\u001b[38;5;28mself\u001b[39m\u001b[38;5;241m.\u001b[39m_listing):\n\u001b[0;32m---> 37\u001b[0m     \u001b[38;5;28;01mawait\u001b[39;00m \u001b[38;5;28mself\u001b[39m\u001b[38;5;241m.\u001b[39m_next_batch()\n\u001b[1;32m     39\u001b[0m \u001b[38;5;28mself\u001b[39m\u001b[38;5;241m.\u001b[39m_list_index \u001b[38;5;241m+\u001b[39m\u001b[38;5;241m=\u001b[39m \u001b[38;5;241m1\u001b[39m\n\u001b[1;32m     40\u001b[0m \u001b[38;5;28mself\u001b[39m\u001b[38;5;241m.\u001b[39myielded \u001b[38;5;241m+\u001b[39m\u001b[38;5;241m=\u001b[39m \u001b[38;5;241m1\u001b[39m\n",
      "File \u001b[0;32m~/miniconda3/envs/firebase/lib/python3.10/site-packages/asyncpraw/models/listing/generator.py:90\u001b[0m, in \u001b[0;36mListingGenerator._next_batch\u001b[0;34m(self)\u001b[0m\n\u001b[1;32m     87\u001b[0m \u001b[38;5;28;01mif\u001b[39;00m \u001b[38;5;28mself\u001b[39m\u001b[38;5;241m.\u001b[39m_exhausted:\n\u001b[1;32m     88\u001b[0m     \u001b[38;5;28;01mraise\u001b[39;00m \u001b[38;5;167;01mStopAsyncIteration\u001b[39;00m\n\u001b[0;32m---> 90\u001b[0m \u001b[38;5;28mself\u001b[39m\u001b[38;5;241m.\u001b[39m_listing \u001b[38;5;241m=\u001b[39m \u001b[38;5;28;01mawait\u001b[39;00m \u001b[38;5;28mself\u001b[39m\u001b[38;5;241m.\u001b[39m_reddit\u001b[38;5;241m.\u001b[39mget(\u001b[38;5;28mself\u001b[39m\u001b[38;5;241m.\u001b[39murl, params\u001b[38;5;241m=\u001b[39m\u001b[38;5;28mself\u001b[39m\u001b[38;5;241m.\u001b[39mparams)\n\u001b[1;32m     91\u001b[0m \u001b[38;5;28mself\u001b[39m\u001b[38;5;241m.\u001b[39m_listing \u001b[38;5;241m=\u001b[39m \u001b[38;5;28mself\u001b[39m\u001b[38;5;241m.\u001b[39m_extract_sublist(\u001b[38;5;28mself\u001b[39m\u001b[38;5;241m.\u001b[39m_listing)\n\u001b[1;32m     92\u001b[0m \u001b[38;5;28mself\u001b[39m\u001b[38;5;241m.\u001b[39m_list_index \u001b[38;5;241m=\u001b[39m \u001b[38;5;241m0\u001b[39m\n",
      "File \u001b[0;32m~/miniconda3/envs/firebase/lib/python3.10/site-packages/asyncpraw/util/deprecate_args.py:54\u001b[0m, in \u001b[0;36m_deprecate_args.<locals>.wrapper.<locals>.wrapped\u001b[0;34m(*args, **kwargs)\u001b[0m\n\u001b[1;32m     52\u001b[0m \u001b[38;5;129m@wraps\u001b[39m(func)\n\u001b[1;32m     53\u001b[0m \u001b[38;5;28;01masync\u001b[39;00m \u001b[38;5;28;01mdef\u001b[39;00m\u001b[38;5;250m \u001b[39m\u001b[38;5;21mwrapped\u001b[39m(\u001b[38;5;241m*\u001b[39margs: Any, \u001b[38;5;241m*\u001b[39m\u001b[38;5;241m*\u001b[39mkwargs: Any):\n\u001b[0;32m---> 54\u001b[0m     \u001b[38;5;28;01mreturn\u001b[39;00m \u001b[38;5;28;01mawait\u001b[39;00m _wrapper(\u001b[38;5;241m*\u001b[39margs, \u001b[38;5;241m*\u001b[39m\u001b[38;5;241m*\u001b[39mkwargs)\n",
      "File \u001b[0;32m~/miniconda3/envs/firebase/lib/python3.10/site-packages/asyncpraw/reddit.py:813\u001b[0m, in \u001b[0;36mReddit.get\u001b[0;34m(self, path, params)\u001b[0m\n\u001b[1;32m    800\u001b[0m \u001b[38;5;129m@_deprecate_args\u001b[39m(\u001b[38;5;124m\"\u001b[39m\u001b[38;5;124mpath\u001b[39m\u001b[38;5;124m\"\u001b[39m, \u001b[38;5;124m\"\u001b[39m\u001b[38;5;124mparams\u001b[39m\u001b[38;5;124m\"\u001b[39m)\n\u001b[1;32m    801\u001b[0m \u001b[38;5;28;01masync\u001b[39;00m \u001b[38;5;28;01mdef\u001b[39;00m\u001b[38;5;250m \u001b[39m\u001b[38;5;21mget\u001b[39m(\n\u001b[1;32m    802\u001b[0m     \u001b[38;5;28mself\u001b[39m,\n\u001b[0;32m   (...)\u001b[0m\n\u001b[1;32m    805\u001b[0m     params: \u001b[38;5;28mstr\u001b[39m \u001b[38;5;241m|\u001b[39m \u001b[38;5;28mdict\u001b[39m[\u001b[38;5;28mstr\u001b[39m, \u001b[38;5;28mstr\u001b[39m \u001b[38;5;241m|\u001b[39m \u001b[38;5;28mint\u001b[39m] \u001b[38;5;241m|\u001b[39m \u001b[38;5;28;01mNone\u001b[39;00m \u001b[38;5;241m=\u001b[39m \u001b[38;5;28;01mNone\u001b[39;00m,\n\u001b[1;32m    806\u001b[0m ) \u001b[38;5;241m-\u001b[39m\u001b[38;5;241m>\u001b[39m Any:\n\u001b[1;32m    807\u001b[0m \u001b[38;5;250m    \u001b[39m\u001b[38;5;124;03m\"\"\"Return parsed objects returned from a GET request to ``path``.\u001b[39;00m\n\u001b[1;32m    808\u001b[0m \n\u001b[1;32m    809\u001b[0m \u001b[38;5;124;03m    :param path: The path to fetch.\u001b[39;00m\n\u001b[1;32m    810\u001b[0m \u001b[38;5;124;03m    :param params: The query parameters to add to the request (default: ``None``).\u001b[39;00m\n\u001b[1;32m    811\u001b[0m \n\u001b[1;32m    812\u001b[0m \u001b[38;5;124;03m    \"\"\"\u001b[39;00m\n\u001b[0;32m--> 813\u001b[0m     \u001b[38;5;28;01mreturn\u001b[39;00m \u001b[38;5;28;01mawait\u001b[39;00m \u001b[38;5;28mself\u001b[39m\u001b[38;5;241m.\u001b[39m_objectify_request(method\u001b[38;5;241m=\u001b[39m\u001b[38;5;124m\"\u001b[39m\u001b[38;5;124mGET\u001b[39m\u001b[38;5;124m\"\u001b[39m, params\u001b[38;5;241m=\u001b[39mparams, path\u001b[38;5;241m=\u001b[39mpath)\n",
      "File \u001b[0;32m~/miniconda3/envs/firebase/lib/python3.10/site-packages/asyncpraw/reddit.py:570\u001b[0m, in \u001b[0;36mReddit._objectify_request\u001b[0;34m(self, data, files, json, method, params, path)\u001b[0m\n\u001b[1;32m    544\u001b[0m \u001b[38;5;28;01masync\u001b[39;00m \u001b[38;5;28;01mdef\u001b[39;00m\u001b[38;5;250m \u001b[39m\u001b[38;5;21m_objectify_request\u001b[39m(\n\u001b[1;32m    545\u001b[0m     \u001b[38;5;28mself\u001b[39m,\n\u001b[1;32m    546\u001b[0m     \u001b[38;5;241m*\u001b[39m,\n\u001b[0;32m   (...)\u001b[0m\n\u001b[1;32m    552\u001b[0m     path: \u001b[38;5;28mstr\u001b[39m \u001b[38;5;241m=\u001b[39m \u001b[38;5;124m\"\u001b[39m\u001b[38;5;124m\"\u001b[39m,\n\u001b[1;32m    553\u001b[0m ) \u001b[38;5;241m-\u001b[39m\u001b[38;5;241m>\u001b[39m Any:\n\u001b[1;32m    554\u001b[0m \u001b[38;5;250m    \u001b[39m\u001b[38;5;124;03m\"\"\"Run a request through the ``Objector``.\u001b[39;00m\n\u001b[1;32m    555\u001b[0m \n\u001b[1;32m    556\u001b[0m \u001b[38;5;124;03m    :param data: Dictionary, bytes, or file-like object to send in the body of the\u001b[39;00m\n\u001b[0;32m   (...)\u001b[0m\n\u001b[1;32m    567\u001b[0m \n\u001b[1;32m    568\u001b[0m \u001b[38;5;124;03m    \"\"\"\u001b[39;00m\n\u001b[1;32m    569\u001b[0m     \u001b[38;5;28;01mreturn\u001b[39;00m \u001b[38;5;28mself\u001b[39m\u001b[38;5;241m.\u001b[39m_objector\u001b[38;5;241m.\u001b[39mobjectify(\n\u001b[0;32m--> 570\u001b[0m         \u001b[38;5;28;01mawait\u001b[39;00m \u001b[38;5;28mself\u001b[39m\u001b[38;5;241m.\u001b[39mrequest(\n\u001b[1;32m    571\u001b[0m             data\u001b[38;5;241m=\u001b[39mdata,\n\u001b[1;32m    572\u001b[0m             files\u001b[38;5;241m=\u001b[39mfiles,\n\u001b[1;32m    573\u001b[0m             json\u001b[38;5;241m=\u001b[39mjson,\n\u001b[1;32m    574\u001b[0m             method\u001b[38;5;241m=\u001b[39mmethod,\n\u001b[1;32m    575\u001b[0m             params\u001b[38;5;241m=\u001b[39mparams,\n\u001b[1;32m    576\u001b[0m             path\u001b[38;5;241m=\u001b[39mpath,\n\u001b[1;32m    577\u001b[0m         )\n\u001b[1;32m    578\u001b[0m     )\n",
      "File \u001b[0;32m~/miniconda3/envs/firebase/lib/python3.10/site-packages/asyncpraw/util/deprecate_args.py:54\u001b[0m, in \u001b[0;36m_deprecate_args.<locals>.wrapper.<locals>.wrapped\u001b[0;34m(*args, **kwargs)\u001b[0m\n\u001b[1;32m     52\u001b[0m \u001b[38;5;129m@wraps\u001b[39m(func)\n\u001b[1;32m     53\u001b[0m \u001b[38;5;28;01masync\u001b[39;00m \u001b[38;5;28;01mdef\u001b[39;00m\u001b[38;5;250m \u001b[39m\u001b[38;5;21mwrapped\u001b[39m(\u001b[38;5;241m*\u001b[39margs: Any, \u001b[38;5;241m*\u001b[39m\u001b[38;5;241m*\u001b[39mkwargs: Any):\n\u001b[0;32m---> 54\u001b[0m     \u001b[38;5;28;01mreturn\u001b[39;00m \u001b[38;5;28;01mawait\u001b[39;00m _wrapper(\u001b[38;5;241m*\u001b[39margs, \u001b[38;5;241m*\u001b[39m\u001b[38;5;241m*\u001b[39mkwargs)\n",
      "File \u001b[0;32m~/miniconda3/envs/firebase/lib/python3.10/site-packages/asyncpraw/reddit.py:1061\u001b[0m, in \u001b[0;36mReddit.request\u001b[0;34m(self, data, files, json, method, params, path)\u001b[0m\n\u001b[1;32m   1059\u001b[0m     \u001b[38;5;28;01mraise\u001b[39;00m ClientException(msg)\n\u001b[1;32m   1060\u001b[0m \u001b[38;5;28;01mtry\u001b[39;00m:\n\u001b[0;32m-> 1061\u001b[0m     \u001b[38;5;28;01mreturn\u001b[39;00m \u001b[38;5;28;01mawait\u001b[39;00m \u001b[38;5;28mself\u001b[39m\u001b[38;5;241m.\u001b[39m_core\u001b[38;5;241m.\u001b[39mrequest(\n\u001b[1;32m   1062\u001b[0m         data\u001b[38;5;241m=\u001b[39mdata,\n\u001b[1;32m   1063\u001b[0m         files\u001b[38;5;241m=\u001b[39mfiles,\n\u001b[1;32m   1064\u001b[0m         json\u001b[38;5;241m=\u001b[39mjson,\n\u001b[1;32m   1065\u001b[0m         method\u001b[38;5;241m=\u001b[39mmethod,\n\u001b[1;32m   1066\u001b[0m         params\u001b[38;5;241m=\u001b[39mparams,\n\u001b[1;32m   1067\u001b[0m         path\u001b[38;5;241m=\u001b[39mpath,\n\u001b[1;32m   1068\u001b[0m     )\n\u001b[1;32m   1069\u001b[0m \u001b[38;5;28;01mexcept\u001b[39;00m BadRequest \u001b[38;5;28;01mas\u001b[39;00m exception:\n\u001b[1;32m   1070\u001b[0m     \u001b[38;5;28;01mtry\u001b[39;00m:\n",
      "File \u001b[0;32m~/miniconda3/envs/firebase/lib/python3.10/site-packages/asyncprawcore/sessions.py:383\u001b[0m, in \u001b[0;36mSession.request\u001b[0;34m(self, method, path, data, files, json, params, timeout)\u001b[0m\n\u001b[1;32m    381\u001b[0m     json[\u001b[38;5;124m\"\u001b[39m\u001b[38;5;124mapi_type\u001b[39m\u001b[38;5;124m\"\u001b[39m] \u001b[38;5;241m=\u001b[39m \u001b[38;5;124m\"\u001b[39m\u001b[38;5;124mjson\u001b[39m\u001b[38;5;124m\"\u001b[39m\n\u001b[1;32m    382\u001b[0m url \u001b[38;5;241m=\u001b[39m urljoin(\u001b[38;5;28mself\u001b[39m\u001b[38;5;241m.\u001b[39m_requestor\u001b[38;5;241m.\u001b[39moauth_url, path)\n\u001b[0;32m--> 383\u001b[0m \u001b[38;5;28;01mreturn\u001b[39;00m \u001b[38;5;28;01mawait\u001b[39;00m \u001b[38;5;28mself\u001b[39m\u001b[38;5;241m.\u001b[39m_request_with_retries(\n\u001b[1;32m    384\u001b[0m     data\u001b[38;5;241m=\u001b[39mdata,\n\u001b[1;32m    385\u001b[0m     json\u001b[38;5;241m=\u001b[39mjson,\n\u001b[1;32m    386\u001b[0m     method\u001b[38;5;241m=\u001b[39mmethod,\n\u001b[1;32m    387\u001b[0m     params\u001b[38;5;241m=\u001b[39mparams,\n\u001b[1;32m    388\u001b[0m     timeout\u001b[38;5;241m=\u001b[39mtimeout,\n\u001b[1;32m    389\u001b[0m     url\u001b[38;5;241m=\u001b[39murl,\n\u001b[1;32m    390\u001b[0m )\n",
      "File \u001b[0;32m~/miniconda3/envs/firebase/lib/python3.10/site-packages/asyncprawcore/sessions.py:286\u001b[0m, in \u001b[0;36mSession._request_with_retries\u001b[0;34m(self, data, json, method, params, timeout, url, retry_strategy_state)\u001b[0m\n\u001b[1;32m    284\u001b[0m \u001b[38;5;28;01mawait\u001b[39;00m retry_strategy_state\u001b[38;5;241m.\u001b[39msleep()\n\u001b[1;32m    285\u001b[0m \u001b[38;5;28mself\u001b[39m\u001b[38;5;241m.\u001b[39m_log_request(data, method, params, url)\n\u001b[0;32m--> 286\u001b[0m response, saved_exception \u001b[38;5;241m=\u001b[39m \u001b[38;5;28;01mawait\u001b[39;00m \u001b[38;5;28mself\u001b[39m\u001b[38;5;241m.\u001b[39m_make_request(\n\u001b[1;32m    287\u001b[0m     data,\n\u001b[1;32m    288\u001b[0m     json,\n\u001b[1;32m    289\u001b[0m     method,\n\u001b[1;32m    290\u001b[0m     params,\n\u001b[1;32m    291\u001b[0m     retry_strategy_state,\n\u001b[1;32m    292\u001b[0m     timeout,\n\u001b[1;32m    293\u001b[0m     url,\n\u001b[1;32m    294\u001b[0m )\n\u001b[1;32m    296\u001b[0m do_retry \u001b[38;5;241m=\u001b[39m \u001b[38;5;28;01mFalse\u001b[39;00m\n\u001b[1;32m    297\u001b[0m \u001b[38;5;28;01mif\u001b[39;00m response \u001b[38;5;129;01mis\u001b[39;00m \u001b[38;5;129;01mnot\u001b[39;00m \u001b[38;5;28;01mNone\u001b[39;00m \u001b[38;5;129;01mand\u001b[39;00m response\u001b[38;5;241m.\u001b[39mstatus \u001b[38;5;241m==\u001b[39m codes[\u001b[38;5;124m\"\u001b[39m\u001b[38;5;124munauthorized\u001b[39m\u001b[38;5;124m\"\u001b[39m]:\n",
      "File \u001b[0;32m~/miniconda3/envs/firebase/lib/python3.10/site-packages/asyncprawcore/sessions.py:192\u001b[0m, in \u001b[0;36mSession._make_request\u001b[0;34m(self, data, json, method, params, retry_strategy_state, timeout, url)\u001b[0m\n\u001b[1;32m    181\u001b[0m \u001b[38;5;28;01masync\u001b[39;00m \u001b[38;5;28;01mdef\u001b[39;00m\u001b[38;5;250m \u001b[39m\u001b[38;5;21m_make_request\u001b[39m(\n\u001b[1;32m    182\u001b[0m     \u001b[38;5;28mself\u001b[39m,\n\u001b[1;32m    183\u001b[0m     data: \u001b[38;5;28mlist\u001b[39m[\u001b[38;5;28mtuple\u001b[39m[\u001b[38;5;28mstr\u001b[39m, Any]],\n\u001b[0;32m   (...)\u001b[0m\n\u001b[1;32m    189\u001b[0m     url: \u001b[38;5;28mstr\u001b[39m,\n\u001b[1;32m    190\u001b[0m ) \u001b[38;5;241m-\u001b[39m\u001b[38;5;241m>\u001b[39m \u001b[38;5;28mtuple\u001b[39m[ClientResponse, \u001b[38;5;28;01mNone\u001b[39;00m] \u001b[38;5;241m|\u001b[39m \u001b[38;5;28mtuple\u001b[39m[\u001b[38;5;28;01mNone\u001b[39;00m, \u001b[38;5;167;01mException\u001b[39;00m]:\n\u001b[1;32m    191\u001b[0m     \u001b[38;5;28;01mtry\u001b[39;00m:\n\u001b[0;32m--> 192\u001b[0m         response \u001b[38;5;241m=\u001b[39m \u001b[38;5;28;01mawait\u001b[39;00m \u001b[38;5;28mself\u001b[39m\u001b[38;5;241m.\u001b[39m_rate_limiter\u001b[38;5;241m.\u001b[39mcall(\n\u001b[1;32m    193\u001b[0m             \u001b[38;5;28mself\u001b[39m\u001b[38;5;241m.\u001b[39m_requestor\u001b[38;5;241m.\u001b[39mrequest,\n\u001b[1;32m    194\u001b[0m             \u001b[38;5;28mself\u001b[39m\u001b[38;5;241m.\u001b[39m_set_header_callback,\n\u001b[1;32m    195\u001b[0m             method,\n\u001b[1;32m    196\u001b[0m             url,\n\u001b[1;32m    197\u001b[0m             allow_redirects\u001b[38;5;241m=\u001b[39m\u001b[38;5;28;01mFalse\u001b[39;00m,\n\u001b[1;32m    198\u001b[0m             data\u001b[38;5;241m=\u001b[39mdata,\n\u001b[1;32m    199\u001b[0m             json\u001b[38;5;241m=\u001b[39mjson,\n\u001b[1;32m    200\u001b[0m             params\u001b[38;5;241m=\u001b[39mparams,\n\u001b[1;32m    201\u001b[0m             timeout\u001b[38;5;241m=\u001b[39mtimeout,\n\u001b[1;32m    202\u001b[0m         )\n\u001b[1;32m    203\u001b[0m         log\u001b[38;5;241m.\u001b[39mdebug(\n\u001b[1;32m    204\u001b[0m             \u001b[38;5;124m\"\u001b[39m\u001b[38;5;124mResponse: \u001b[39m\u001b[38;5;132;01m%s\u001b[39;00m\u001b[38;5;124m (\u001b[39m\u001b[38;5;132;01m%s\u001b[39;00m\u001b[38;5;124m bytes) (rst-\u001b[39m\u001b[38;5;132;01m%s\u001b[39;00m\u001b[38;5;124m:rem-\u001b[39m\u001b[38;5;132;01m%s\u001b[39;00m\u001b[38;5;124m:used-\u001b[39m\u001b[38;5;132;01m%s\u001b[39;00m\u001b[38;5;124m ratelimit) at \u001b[39m\u001b[38;5;132;01m%s\u001b[39;00m\u001b[38;5;124m\"\u001b[39m,\n\u001b[1;32m    205\u001b[0m             response\u001b[38;5;241m.\u001b[39mstatus,\n\u001b[0;32m   (...)\u001b[0m\n\u001b[1;32m    210\u001b[0m             time\u001b[38;5;241m.\u001b[39mtime(),\n\u001b[1;32m    211\u001b[0m         )\n\u001b[1;32m    212\u001b[0m         \u001b[38;5;28;01mreturn\u001b[39;00m response, \u001b[38;5;28;01mNone\u001b[39;00m\n",
      "File \u001b[0;32m~/miniconda3/envs/firebase/lib/python3.10/site-packages/asyncprawcore/rate_limit.py:51\u001b[0m, in \u001b[0;36mRateLimiter.call\u001b[0;34m(self, request_function, set_header_callback, *args, **kwargs)\u001b[0m\n\u001b[1;32m     49\u001b[0m \u001b[38;5;28;01mawait\u001b[39;00m \u001b[38;5;28mself\u001b[39m\u001b[38;5;241m.\u001b[39mdelay()\n\u001b[1;32m     50\u001b[0m kwargs[\u001b[38;5;124m\"\u001b[39m\u001b[38;5;124mheaders\u001b[39m\u001b[38;5;124m\"\u001b[39m] \u001b[38;5;241m=\u001b[39m \u001b[38;5;28;01mawait\u001b[39;00m set_header_callback()\n\u001b[0;32m---> 51\u001b[0m response \u001b[38;5;241m=\u001b[39m \u001b[38;5;28;01mawait\u001b[39;00m request_function(\u001b[38;5;241m*\u001b[39margs, \u001b[38;5;241m*\u001b[39m\u001b[38;5;241m*\u001b[39mkwargs)\n\u001b[1;32m     52\u001b[0m \u001b[38;5;28mself\u001b[39m\u001b[38;5;241m.\u001b[39mupdate(response\u001b[38;5;241m.\u001b[39mheaders)\n\u001b[1;32m     53\u001b[0m \u001b[38;5;28;01mreturn\u001b[39;00m response\n",
      "File \u001b[0;32m~/miniconda3/envs/firebase/lib/python3.10/site-packages/asyncprawcore/requestor.py:80\u001b[0m, in \u001b[0;36mRequestor.request\u001b[0;34m(self, timeout, *args, **kwargs)\u001b[0m\n\u001b[1;32m     76\u001b[0m     \u001b[38;5;28;01mreturn\u001b[39;00m \u001b[38;5;28;01mawait\u001b[39;00m \u001b[38;5;28mself\u001b[39m\u001b[38;5;241m.\u001b[39m_http\u001b[38;5;241m.\u001b[39mrequest(\n\u001b[1;32m     77\u001b[0m         \u001b[38;5;241m*\u001b[39margs, timeout\u001b[38;5;241m=\u001b[39mtimeout \u001b[38;5;129;01mor\u001b[39;00m \u001b[38;5;28mself\u001b[39m\u001b[38;5;241m.\u001b[39mtimeout, \u001b[38;5;241m*\u001b[39m\u001b[38;5;241m*\u001b[39mkwargs\n\u001b[1;32m     78\u001b[0m     )\n\u001b[1;32m     79\u001b[0m \u001b[38;5;28;01mexcept\u001b[39;00m \u001b[38;5;167;01mException\u001b[39;00m \u001b[38;5;28;01mas\u001b[39;00m exc:  \u001b[38;5;66;03m# noqa: BLE001\u001b[39;00m\n\u001b[0;32m---> 80\u001b[0m     \u001b[38;5;28;01mraise\u001b[39;00m RequestException(exc, args, kwargs) \u001b[38;5;28;01mfrom\u001b[39;00m\u001b[38;5;250m \u001b[39m\u001b[38;5;28;01mNone\u001b[39;00m\n",
      "\u001b[0;31mRequestException\u001b[0m: error with request Session is closed"
     ]
    }
   ],
   "source": [
    "reddit_scrape = RedditScraper()\n",
    "last_discussion_id = '1jflc6z'\n",
    "daily_post, daily_comments = await reddit_scraper.fetch_daily_discussion(\n",
    "    limit=5,\n",
    "    last_discussion_id=last_discussion_id,\n",
    "    last_check_time=None\n",
    ")"
   ]
  },
  {
   "cell_type": "code",
   "execution_count": null,
   "id": "80ddb33e-074d-4f73-be18-94dbfdbe3fd1",
   "metadata": {},
   "outputs": [],
   "source": []
  }
 ],
 "metadata": {
  "kernelspec": {
   "display_name": "Python 3 (ipykernel)",
   "language": "python",
   "name": "python3"
  },
  "language_info": {
   "codemirror_mode": {
    "name": "ipython",
    "version": 3
   },
   "file_extension": ".py",
   "mimetype": "text/x-python",
   "name": "python",
   "nbconvert_exporter": "python",
   "pygments_lexer": "ipython3",
   "version": "3.10.16"
  }
 },
 "nbformat": 4,
 "nbformat_minor": 5
}
